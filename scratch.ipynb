{
 "cells": [
  {
   "cell_type": "code",
   "execution_count": 27,
   "outputs": [
    {
     "name": "stdout",
     "output_type": "stream",
     "text": [
      "The autoreload extension is already loaded. To reload it, use:\n",
      "  %reload_ext autoreload\n"
     ]
    }
   ],
   "source": [
    "import pprint\n",
    "\n",
    "%load_ext autoreload\n",
    "%autoreload 2"
   ],
   "metadata": {
    "collapsed": false,
    "pycharm": {
     "name": "#%%\n"
    }
   }
  },
  {
   "cell_type": "code",
   "execution_count": 108,
   "outputs": [
    {
     "data": {
      "text/plain": "<matplotlib.image.AxesImage at 0x11d3d2430>"
     },
     "execution_count": 108,
     "metadata": {},
     "output_type": "execute_result"
    },
    {
     "data": {
      "text/plain": "<Figure size 640x480 with 1 Axes>",
      "image/png": "[encoded data removed]"
     },
     "metadata": {},
     "output_type": "display_data"
    }
   ],
   "source": [
    "import maze\n",
    "\n",
    "size = 20\n",
    "m = maze.Maze(size)\n",
    "\n",
    "# issues\n",
    "# fine for checking connection between two specific nodes\n",
    "# but cannot find all connections for a particular node\n",
    "\n",
    "# solutions\n",
    "# store bidirectional data\n",
    "\n",
    "# tests\n",
    "# all edge connections are one away from each other\n",
    "# each connection is listed only once\n",
    "\n",
    "grid_size = (size * 2) + 1\n",
    "grid = [[False for _ in range(grid_size)] for _ in range(grid_size)]\n",
    "for gy in range(grid_size):\n",
    "    for gx in range(grid_size):\n",
    "        on_y = gy % 2 == 1\n",
    "        on_x = gx % 2 == 1\n",
    "        edge_y = gy == 0 or gy == (grid_size - 1)\n",
    "        edge_x = gx == 0 or gx == (grid_size - 1)\n",
    "\n",
    "        if on_x and on_y:\n",
    "            grid[gy][gx] = True\n",
    "        elif not (edge_y or edge_x):\n",
    "            if on_x:\n",
    "                x = gx // 2\n",
    "                y1 = (gy - 1) // 2\n",
    "                y2 = (gy + 1) // 2\n",
    "                grid[gy][gx] = (y1, x) in m.edges[(y2, x)]\n",
    "            elif on_y:\n",
    "                y = gy // 2\n",
    "                x1 = (gx - 1) // 2\n",
    "                x2 = (gx + 1) // 2\n",
    "                grid[gy][gx] = (y, x1) in m.edges[(y, x2)]\n",
    "\n",
    "from matplotlib import pyplot\n",
    "import matplotlib as mpl\n",
    "\n",
    "fig, ax = pyplot.subplots()\n",
    "ax.imshow(grid)"
   ],
   "metadata": {
    "collapsed": false,
    "pycharm": {
     "name": "#%%\n"
    }
   }
  }
 ],
 "metadata": {
  "kernelspec": {
   "display_name": "Python 3",
   "language": "python",
   "name": "python3"
  },
  "language_info": {
   "codemirror_mode": {
    "name": "ipython",
    "version": 3
   },
   "file_extension": ".py",
   "mimetype": "text/x-python",
   "name": "python",
   "nbconvert_exporter": "python",
   "pygments_lexer": "ipython3",
   "version": "3.9.0"
  }
 },
 "nbformat": 4,
 "nbformat_minor": 4
}